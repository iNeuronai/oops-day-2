{
 "cells": [
  {
   "cell_type": "code",
   "execution_count": 1,
   "id": "225b543e-8050-4627-99d8-93655714eee6",
   "metadata": {},
   "outputs": [],
   "source": [
    "class test :\n",
    "    def meth1(self) :\n",
    "        return \"this is my first meth\" \n",
    "        "
   ]
  },
  {
   "cell_type": "code",
   "execution_count": 2,
   "id": "4dae1a9e-21a2-477f-a80f-aac51629c40b",
   "metadata": {},
   "outputs": [],
   "source": [
    "a = test()"
   ]
  },
  {
   "cell_type": "code",
   "execution_count": 3,
   "id": "d20d56dd-44d2-4332-b01c-b48814ebbff6",
   "metadata": {},
   "outputs": [
    {
     "data": {
      "text/plain": [
       "'this is my first meth'"
      ]
     },
     "execution_count": 3,
     "metadata": {},
     "output_type": "execute_result"
    }
   ],
   "source": [
    "a.meth1()"
   ]
  },
  {
   "cell_type": "code",
   "execution_count": 21,
   "id": "ed8a2eb8-07e9-40b4-a87c-c1b51483cdb9",
   "metadata": {},
   "outputs": [],
   "source": [
    "class test1 : \n",
    "    @staticmethod\n",
    "    def meth1():\n",
    "        return \"this is a meth you can access without creating an object \" \n",
    "    \n",
    "    def meth2(self) : \n",
    "        return \"this is a meth withouit static \" "
   ]
  },
  {
   "cell_type": "code",
   "execution_count": 22,
   "id": "2eb6ee02-473f-4245-8cd8-0229212141e5",
   "metadata": {},
   "outputs": [],
   "source": [
    "b = test1()"
   ]
  },
  {
   "cell_type": "code",
   "execution_count": 23,
   "id": "117e2bbc-20f3-4477-8312-6a2bdc457dd7",
   "metadata": {},
   "outputs": [
    {
     "data": {
      "text/plain": [
       "'this is a meth you can access without creating an object '"
      ]
     },
     "execution_count": 23,
     "metadata": {},
     "output_type": "execute_result"
    }
   ],
   "source": [
    "test1.meth1()"
   ]
  },
  {
   "cell_type": "code",
   "execution_count": 24,
   "id": "6434c472-de21-4fd3-bcaa-16a0ef381be8",
   "metadata": {},
   "outputs": [
    {
     "data": {
      "text/plain": [
       "'this is a meth you can access without creating an object '"
      ]
     },
     "execution_count": 24,
     "metadata": {},
     "output_type": "execute_result"
    }
   ],
   "source": [
    "b.meth1()"
   ]
  },
  {
   "cell_type": "code",
   "execution_count": 7,
   "id": "68281c4c-d8b1-433d-94c7-2962ccc5ecf8",
   "metadata": {},
   "outputs": [
    {
     "data": {
      "text/plain": [
       "'this is a meth withouit static '"
      ]
     },
     "execution_count": 7,
     "metadata": {},
     "output_type": "execute_result"
    }
   ],
   "source": [
    "b.meth2()"
   ]
  },
  {
   "cell_type": "code",
   "execution_count": 25,
   "id": "16346540-4e8e-403f-bfe0-4abce2427fb9",
   "metadata": {},
   "outputs": [],
   "source": [
    "class test2 :\n",
    "     \n",
    "        def __init__(self , a, b,c) : \n",
    "            self.a = a \n",
    "            self.b =b \n",
    "            self.c1 = c \n",
    "            \n",
    "        def meth1(self) : \n",
    "            return \"this is my meth1\"\n",
    "        \n",
    "        def meth2(self, n) :\n",
    "            return n\n",
    "        \n",
    "        def meth3(self , m) :\n",
    "            return m "
   ]
  },
  {
   "cell_type": "code",
   "execution_count": 28,
   "id": "7190fcf2-b84b-4d38-8c19-f6c5018d8c72",
   "metadata": {},
   "outputs": [],
   "source": [
    "a_test2 = test2(\"sudh\" , 34 , \"kumar\")"
   ]
  },
  {
   "cell_type": "code",
   "execution_count": 29,
   "id": "bdbe907a-5b45-42a1-a2a1-a9d763df6af8",
   "metadata": {},
   "outputs": [],
   "source": [
    "b_test2 = test2(\"animesh\" , 23 , \"saini\")\n"
   ]
  },
  {
   "cell_type": "code",
   "execution_count": 30,
   "id": "660fa957-89be-423f-a72e-68b2c30d3896",
   "metadata": {},
   "outputs": [],
   "source": [
    "c_test2 = test2(\"annu\" , 34 , \"rana\")"
   ]
  },
  {
   "cell_type": "code",
   "execution_count": 38,
   "id": "7758a764-7cab-4a3a-8a50-6ae9eb24ed3a",
   "metadata": {},
   "outputs": [],
   "source": [
    "class parent1:\n",
    "    \n",
    "    def parent_meth(self) : \n",
    "        return \"this is a parent1 method\"\n",
    "    \n",
    "class parent2 :\n",
    "    \n",
    "    def parent_meth2(self):\n",
    "        return \"this is a parent meth 2 \"\n",
    "    \n",
    "class parent3 :\n",
    "    \n",
    "    def parent_meth3(self):\n",
    "        return \" this is a parent meth 3 \"\n",
    "\n",
    "class child(parent1,parent2,parent3):\n",
    "    \n",
    "    def child_meth(self):\n",
    "        return \"this is my child\" \n",
    "    "
   ]
  },
  {
   "cell_type": "code",
   "execution_count": 39,
   "id": "abc0eaaf-e3dd-4cb8-8d18-d9b7debf4cb2",
   "metadata": {},
   "outputs": [],
   "source": [
    "var_child = child()"
   ]
  },
  {
   "cell_type": "code",
   "execution_count": 40,
   "id": "74f4f58c-7f1e-46c7-ba77-b2116a71d077",
   "metadata": {},
   "outputs": [
    {
     "data": {
      "text/plain": [
       "'this is a parent1 method'"
      ]
     },
     "execution_count": 40,
     "metadata": {},
     "output_type": "execute_result"
    }
   ],
   "source": [
    "var_child.parent_meth()"
   ]
  },
  {
   "cell_type": "code",
   "execution_count": 37,
   "id": "51a2fd6e-dc75-49ee-98f5-7aaee4ad0431",
   "metadata": {},
   "outputs": [
    {
     "data": {
      "text/plain": [
       "'this is a parent meth 2 '"
      ]
     },
     "execution_count": 37,
     "metadata": {},
     "output_type": "execute_result"
    }
   ],
   "source": [
    "var_child.parent_meth2()"
   ]
  },
  {
   "cell_type": "code",
   "execution_count": 41,
   "id": "030d7e16-4dcc-4e9e-8fa1-aea244185b8f",
   "metadata": {},
   "outputs": [
    {
     "data": {
      "text/plain": [
       "' this is a parent meth 3 '"
      ]
     },
     "execution_count": 41,
     "metadata": {},
     "output_type": "execute_result"
    }
   ],
   "source": [
    "var_child.parent_meth3()"
   ]
  },
  {
   "cell_type": "code",
   "execution_count": 42,
   "id": "9a717d75-39fd-4656-ba5b-4ddfa0bb85e0",
   "metadata": {},
   "outputs": [],
   "source": [
    "class class1:\n",
    "    \n",
    "    def calss1_meth(self):\n",
    "        return \"class1 meth\" \n",
    "    \n",
    "class class2(class1) : \n",
    "    pass\n",
    "\n",
    "class class3(class2):\n",
    "    \n",
    "    def class3_meth(self):\n",
    "        return \"this is my class 3 \"\n",
    "\n",
    "    "
   ]
  },
  {
   "cell_type": "code",
   "execution_count": 43,
   "id": "ed041da8-1606-4cab-8140-960cfb8cbc8c",
   "metadata": {},
   "outputs": [],
   "source": [
    "var_class3 = class3()"
   ]
  },
  {
   "cell_type": "code",
   "execution_count": 44,
   "id": "8c8cdc7b-fe5d-4d96-b44d-bc62f41f3bad",
   "metadata": {},
   "outputs": [
    {
     "data": {
      "text/plain": [
       "'class1 meth'"
      ]
     },
     "execution_count": 44,
     "metadata": {},
     "output_type": "execute_result"
    }
   ],
   "source": [
    "var_class3.calss1_meth()"
   ]
  },
  {
   "cell_type": "code",
   "execution_count": 45,
   "id": "f6a70d4b-615b-4dee-8ac2-d3e72b0e2caf",
   "metadata": {},
   "outputs": [],
   "source": [
    "class test5:\n",
    "    def test(self) : \n",
    "        return \"this is my test meth\" \n",
    "    \n",
    "class test6:\n",
    "    def test(self) :\n",
    "        return \"this is my meth from calss test6 called test\" \n",
    "    \n",
    "class test7(test5):\n",
    "    def test(self) : \n",
    "        return \"this is my test form test7\"  "
   ]
  },
  {
   "cell_type": "code",
   "execution_count": 46,
   "id": "a15835b4-574a-41fa-a5d9-fcbe7b7c0a25",
   "metadata": {},
   "outputs": [],
   "source": [
    "var_classtest7 = test7()"
   ]
  },
  {
   "cell_type": "code",
   "execution_count": 47,
   "id": "54c30232-62b3-40d7-a621-038f7be7f857",
   "metadata": {},
   "outputs": [
    {
     "data": {
      "text/plain": [
       "'this is my test form test7'"
      ]
     },
     "execution_count": 47,
     "metadata": {},
     "output_type": "execute_result"
    }
   ],
   "source": [
    "var_classtest7.test()"
   ]
  },
  {
   "cell_type": "code",
   "execution_count": 48,
   "id": "efa2a16f-085f-49c1-b39b-363f59582d7d",
   "metadata": {},
   "outputs": [],
   "source": [
    "class test8:\n",
    "    \n",
    "    def test(self , c = 5 , b = 4 , d = 7 ):\n",
    "        return c,b,d"
   ]
  },
  {
   "cell_type": "code",
   "execution_count": 51,
   "id": "0009c16b-fee4-47e4-8e04-5ab7bb5984cd",
   "metadata": {},
   "outputs": [],
   "source": [
    "var_test8  = test8()"
   ]
  },
  {
   "cell_type": "code",
   "execution_count": 52,
   "id": "bb03d84a-1f50-41e8-bdaa-00c856423552",
   "metadata": {},
   "outputs": [
    {
     "data": {
      "text/plain": [
       "(5, 4, 7)"
      ]
     },
     "execution_count": 52,
     "metadata": {},
     "output_type": "execute_result"
    }
   ],
   "source": [
    "var_test8.test()"
   ]
  },
  {
   "cell_type": "code",
   "execution_count": 53,
   "id": "f7e6b159-d1e1-4865-9cfb-0e41824d4f64",
   "metadata": {},
   "outputs": [
    {
     "data": {
      "text/plain": [
       "('sudh', 4, 7)"
      ]
     },
     "execution_count": 53,
     "metadata": {},
     "output_type": "execute_result"
    }
   ],
   "source": [
    "var_test8.test(\"sudh\")"
   ]
  },
  {
   "cell_type": "code",
   "execution_count": 54,
   "id": "1abe12b8-eeab-4e48-b9e3-6719a89d4ae5",
   "metadata": {},
   "outputs": [
    {
     "data": {
      "text/plain": [
       "('sudh', 'kumar', 7)"
      ]
     },
     "execution_count": 54,
     "metadata": {},
     "output_type": "execute_result"
    }
   ],
   "source": [
    "var_test8.test(\"sudh\" , \"kumar\")"
   ]
  },
  {
   "cell_type": "code",
   "execution_count": null,
   "id": "f946b7c3-7892-4213-81a4-f5a089d93ed9",
   "metadata": {},
   "outputs": [],
   "source": [
    "# orverlaoding is a situation where number of argument and data type will be different \n",
    "#overrding is a situation where signature of the function means name and parameter will same we will just chage the def of the func\n"
   ]
  },
  {
   "cell_type": "code",
   "execution_count": 55,
   "id": "d4291c04-c318-40c3-9e6f-792b5e2d09d3",
   "metadata": {},
   "outputs": [],
   "source": [
    "def test(a,b):\n",
    "    return a+b"
   ]
  },
  {
   "cell_type": "code",
   "execution_count": 56,
   "id": "54bfc83b-1e28-4390-b6ba-416b9e68665b",
   "metadata": {},
   "outputs": [
    {
     "data": {
      "text/plain": [
       "7"
      ]
     },
     "execution_count": 56,
     "metadata": {},
     "output_type": "execute_result"
    }
   ],
   "source": [
    "test(3,4)"
   ]
  },
  {
   "cell_type": "code",
   "execution_count": 57,
   "id": "3a99fc6d-2e24-4d84-9dac-b1ba0f69cdea",
   "metadata": {},
   "outputs": [
    {
     "data": {
      "text/plain": [
       "'sudh kuamr'"
      ]
     },
     "execution_count": 57,
     "metadata": {},
     "output_type": "execute_result"
    }
   ],
   "source": [
    "test(\"sudh \" , \"kuamr\")"
   ]
  },
  {
   "cell_type": "code",
   "execution_count": 60,
   "id": "81fe0547-fc02-4ff8-b42f-6e9108483728",
   "metadata": {},
   "outputs": [],
   "source": [
    "class test1 : \n",
    "    \n",
    "    def test(self) : \n",
    "        return \"this is my meth from test1\" \n",
    "    \n",
    "class test2 : \n",
    "    \n",
    "    def test(self):\n",
    "        return \"this is my meth from test2\" \n",
    "    \n",
    "class test3:\n",
    "    def test(self) : \n",
    "        return \"this is my meth form test3\""
   ]
  },
  {
   "cell_type": "code",
   "execution_count": 61,
   "id": "901f2034-8cfd-4bb2-9bba-2c062eaead4b",
   "metadata": {},
   "outputs": [],
   "source": [
    "var_class = [test1()  , test2(), test3()]"
   ]
  },
  {
   "cell_type": "code",
   "execution_count": 63,
   "id": "e56522aa-7458-4b0f-b085-0375e414da08",
   "metadata": {},
   "outputs": [
    {
     "name": "stdout",
     "output_type": "stream",
     "text": [
      "this is my meth from test1\n",
      "this is my meth from test2\n",
      "this is my meth form test3\n"
     ]
    }
   ],
   "source": [
    "for i in var_class : \n",
    "    print(i.test())"
   ]
  },
  {
   "cell_type": "code",
   "execution_count": 64,
   "id": "ed1b0eff-95c4-47e4-b864-34fee043d775",
   "metadata": {},
   "outputs": [],
   "source": [
    "#q1  : create a file class for reading a data from one of the file with a method name read and write\n",
    "\n",
    "use loggiing , exception handling "
   ]
  },
  {
   "cell_type": "code",
   "execution_count": 67,
   "id": "9063ce1b-cb40-4231-bfda-404ba78e5634",
   "metadata": {},
   "outputs": [],
   "source": [
    "def read():\n",
    "    try :\n",
    "        with open('test.txt' , 'r') as file :\n",
    "            data = file.read()\n",
    "            return data\n",
    "    except FileNotFoundError as e :\n",
    "        print(e)"
   ]
  },
  {
   "cell_type": "code",
   "execution_count": 68,
   "id": "e0474a9e-6f85-4b4c-b808-b680830a6bd6",
   "metadata": {},
   "outputs": [
    {
     "name": "stdout",
     "output_type": "stream",
     "text": [
      "[Errno 2] No such file or directory: 'test.txt'\n"
     ]
    }
   ],
   "source": [
    "read()"
   ]
  },
  {
   "cell_type": "code",
   "execution_count": 69,
   "id": "e59852d1-85dc-41ea-acdc-e7ee87725ef0",
   "metadata": {},
   "outputs": [],
   "source": [
    "def write():\n",
    "    with open('test.txt' , 'w') as file :\n",
    "        data = file.write(\"this is my data for file\")"
   ]
  },
  {
   "cell_type": "code",
   "execution_count": 70,
   "id": "660f1b60-5ffb-433a-a302-fa54928c04d9",
   "metadata": {},
   "outputs": [],
   "source": [
    "write()"
   ]
  },
  {
   "cell_type": "code",
   "execution_count": 112,
   "id": "3921677a-77b1-4220-bb74-136e3b169009",
   "metadata": {},
   "outputs": [],
   "source": [
    "import logging\n",
    "\n",
    "logging.basicConfig(filename='file_class.log', level=logging.DEBUG , filemode='w', format=\"%(asctime)s %(levelname)s %(message)s\")\n",
    "\n",
    "class file : \n",
    "    def __init__(self , filename)  :\n",
    "        self.filename = filename \n",
    "                    \n",
    "    def read(self):\n",
    "        logging.info(\"This is a start of read operation \" )\n",
    "        try :\n",
    "            logging.info(\"i am inside try block of read method \")\n",
    "            with open(self.filename , 'r') as file :\n",
    "                data = file.read()\n",
    "                logging.info(\"I am able to read the file \")\n",
    "                return data\n",
    "        except FileNotFoundError as e :\n",
    "            #print(e)\n",
    "            logging.error(\"there is some issue with  the read file operation\")\n",
    "            logging.error(e)\n",
    "        \n",
    "    def write(self,data1):\n",
    "        try: \n",
    "            logging.info(\"i am inside a try to write fun\")\n",
    "            with open(self.filename, 'a') as file :\n",
    "                data = file.write(data1) \n",
    "                logging.info(\"i am able to write a data into file succesfully\")\n",
    "        except Exception as e : \n",
    "            #print(e)\n",
    "            logging.error(\"there is an issue with write ops\")\n",
    "            logging.error(e)\n",
    "    "
   ]
  },
  {
   "cell_type": "code",
   "execution_count": 113,
   "id": "601f9223-598c-41dc-98c5-96d2ba67afe5",
   "metadata": {},
   "outputs": [
    {
     "data": {
      "text/plain": [
       "'this is my data to be written inside my filethis is my data to be written inside my filethis is my data to be written inside my file'"
      ]
     },
     "execution_count": 113,
     "metadata": {},
     "output_type": "execute_result"
    }
   ],
   "source": [
    "file_obj = file(\"test1.txt\")\n",
    "file_obj.read()\n"
   ]
  },
  {
   "cell_type": "code",
   "execution_count": 114,
   "id": "9767d740-ddbe-40c5-8375-85d19d68231a",
   "metadata": {},
   "outputs": [],
   "source": [
    "file_obj.write(\"this is my data to be written inside my file\")"
   ]
  },
  {
   "cell_type": "code",
   "execution_count": 115,
   "id": "aa8722ce-4c6f-463b-98e4-58a37539fae8",
   "metadata": {},
   "outputs": [
    {
     "data": {
      "text/plain": [
       "'this is my data to be written inside my filethis is my data to be written inside my filethis is my data to be written inside my file'"
      ]
     },
     "execution_count": 115,
     "metadata": {},
     "output_type": "execute_result"
    }
   ],
   "source": [
    "file_obj.read()"
   ]
  },
  {
   "cell_type": "code",
   "execution_count": 105,
   "id": "c65b5e34-aca4-4ce4-940f-06eca670dfa6",
   "metadata": {},
   "outputs": [
    {
     "name": "stdout",
     "output_type": "stream",
     "text": [
      " file_class.log         'oops day 2.ipynb'   sample-code.ipynb\n",
      "'mongo db query.ipynb'   oops.ipynb          test1.txt\n",
      "\u001b[0m\u001b[01;34m'oops day 2'\u001b[0m/            README.md           test.txt\n"
     ]
    }
   ],
   "source": [
    "ls"
   ]
  },
  {
   "cell_type": "code",
   "execution_count": 110,
   "id": "e2c4532b-d94e-421a-8fa4-bc8c8c4acb5e",
   "metadata": {},
   "outputs": [
    {
     "data": {
      "text/plain": [
       "'/home/jovyan/work'"
      ]
     },
     "execution_count": 110,
     "metadata": {},
     "output_type": "execute_result"
    }
   ],
   "source": [
    "import os \n",
    "os.getcwd()"
   ]
  },
  {
   "cell_type": "code",
   "execution_count": null,
   "id": "072a988a-f677-430c-be54-8b12656b5db2",
   "metadata": {},
   "outputs": [],
   "source": [
    "q1 : Create your own class to perform a list search operation \n",
    "q2 : create a class for dict new element addition\n",
    "q3 : create a class for tuple data extraction operation\n",
    "q4 : Create a class to implement all insert , update , delete operation for mysql\n",
    "q5 : create a class to implement insert , uupdate and delete in monngo db \n",
    "q6 : create a class to perform append and delete operation in a file and inherit it in child class \n",
    "q7 : create a class to import a data into file from mongo db \n",
    "q8 : Create a class to build a calculator funcnalities addition , subtraction , multiplication ,div , log , exponenet , power \n",
    "q9 : create a class method to find a time and space complexity of any function\n",
    "q10: create a class to do a bulk uplaod of a file in mysql \n",
    "q11: give 10 different example of ploymorphism , encaptulation ,data  abstraction , overloading , ovverriding , multiple inheritance\n",
    "q12: Try to explore a meaning of \"-> \" this sinnature in python \n",
    "\n",
    "you have to complete this task before next saturday (21st of jan 2023) class and send it to me : sudhanshu@ineuron.ai with up and running code\n",
    "\n",
    "class timeinig for 21st and 22nd will be 10 AM IST , only for one week as i am traveling (sat and sun ) after that it will be \n",
    "same as per our regular schedule \n"
   ]
  }
 ],
 "metadata": {
  "kernelspec": {
   "display_name": "Python 3 (ipykernel)",
   "language": "python",
   "name": "python3"
  },
  "language_info": {
   "codemirror_mode": {
    "name": "ipython",
    "version": 3
   },
   "file_extension": ".py",
   "mimetype": "text/x-python",
   "name": "python",
   "nbconvert_exporter": "python",
   "pygments_lexer": "ipython3",
   "version": "3.10.6"
  }
 },
 "nbformat": 4,
 "nbformat_minor": 5
}
